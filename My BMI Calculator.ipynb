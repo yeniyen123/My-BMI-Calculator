{
 "cells": [
  {
   "cell_type": "markdown",
   "id": "0028bf02-981e-4ccd-a3db-a55b6711581c",
   "metadata": {},
   "source": [
    "# BMI Calculator"
   ]
  },
  {
   "cell_type": "code",
   "execution_count": 6,
   "id": "57dd3102-062c-406b-a08d-e92f0016a2fa",
   "metadata": {},
   "outputs": [],
   "source": [
    "#BMI = (weight in pounds x 703) / (height in inches x height in inches)\n",
    "#1kg = 2.20462\n",
    "#1″ = 2.54cm"
   ]
  },
  {
   "cell_type": "code",
   "execution_count": 12,
   "id": "b7301963-faa9-45dc-8f3e-bb3a09cd261d",
   "metadata": {},
   "outputs": [],
   "source": [
    "#Pseudocode\n",
    "#1.Prompt the user to input weight. Let the user choose between kg and lbs\n",
    "#2.Once done, let the user input his/her weight\n",
    "#3.Prompt the user to input height. Let the user choose between in and cm\n",
    "#4.Once done, let the user input his/her height\n",
    "#5.Convert weight to lbs\n",
    "#6.Convert height to inches\n",
    "#5.Calculate BMI using this formula: (weight in pounds x 703) / (height in inches x height in inches)\n",
    "\n",
    "\n",
    "#Legend\n",
    "# BMI Classification and Health Risk\n",
    "# Under 18.5 -> Underweight -> Minimal\n",
    "# 18.5-24.9 -> Normal Weight -> Minimal\n",
    "# 25-29.9 -> Overweight -> Increased\n",
    "# 30-34.9 -> Obese -> High\n",
    "# 35 - 39.9 -> Severely Obese -> Very High\n",
    "# 40 and over -> Morbidly Obese -> Extremely High"
   ]
  },
  {
   "cell_type": "code",
   "execution_count": 63,
   "id": "233d8022-24f3-4066-8409-c42f4ae5cb7b",
   "metadata": {},
   "outputs": [
    {
     "name": "stdin",
     "output_type": "stream",
     "text": [
      "Enter your name:  Bogs\n",
      "Would you like to enter your weight in kg or lbs? (Type 'kg' or 'lbs'):  kg\n",
      "Type your weight in 'kg':  56\n",
      "Would you like to enter your height in in or cm? (Type 'in' or 'cm'):  cm\n",
      "Type your height in 'cm':  156\n"
     ]
    },
    {
     "name": "stdout",
     "output_type": "stream",
     "text": [
      "\n",
      "Hi, Bogs. Your BMI is: 23.008872181141353\n",
      "\n",
      "You have a normal weight, with minimal health risk. \n",
      "        \n",
      "Great job! Keep maintaining your healthy habits.\n"
     ]
    }
   ],
   "source": [
    "name = input(\"Enter your name: \")\n",
    "while True:\n",
    "    weight_unit = input(\"Would you like to enter your weight in kg or lbs? (Type 'kg' or 'lbs'): \").lower()\n",
    "    if weight_unit == \"kg\":\n",
    "        kg_weight = float(input(\"Type your weight in 'kg': \"))\n",
    "        weight = kg_weight * 2.20462\n",
    "        if weight != 0:\n",
    "            height_unit = input(\"Would you like to enter your height in in or cm? (Type 'in' or 'cm'): \").lower()\n",
    "            if height_unit == \"in\":\n",
    "                in_height = float(input(\"Type your height in 'in': \"))\n",
    "                height = in_height\n",
    "            if height_unit == \"cm\":\n",
    "                cm_height = float(input(\"Type your height in 'cm': \"))\n",
    "                height = cm_height / 2.54\n",
    "        break\n",
    "    elif weight_unit == \"lbs\":\n",
    "        lbs_weight = float(input(\"Type your weight in 'lbs': \"))\n",
    "        weight = lbs_weight\n",
    "        if weight != 0:\n",
    "            height_unit = input(\"Would you like to enter your height in in or cm? (Type 'in' or 'cm'): \").lower()\n",
    "            if height_unit == \"in\":\n",
    "                in_height = float(input(\"Type your height in 'in': \"))\n",
    "                height = in_height \n",
    "            if height_unit == \"cm\":\n",
    "                cm_height = float(input(\"Type your height in 'cm': \"))\n",
    "                height = cm_height / 2.54\n",
    "        break\n",
    "    else:\n",
    "        print(\"Type 'kg' or 'lbs' only\")\n",
    "\n",
    "BMI = (weight * 703) / (height * height)\n",
    "\n",
    "if BMI > 0:\n",
    "    if(BMI < 18.5):\n",
    "        print(\"\\nHi, \" + name + \". Your BMI is: \" + str(BMI) + \"\"\"\\n\\nYou are classified as underweight, which carries a minimal health risk. \n",
    "        \\nConsider consulting a healthcare professional to ensure you're maintaining a healthy lifestyle.\"\"\")\n",
    "    elif(BMI >= 18.5 and BMI <= 24.9):\n",
    "        print(\"\\nHi, \" + name + \". Your BMI is: \" + str(BMI) + \"\"\"\\n\\nYou have a normal weight, with minimal health risk. \n",
    "        \\nGreat job! Keep maintaining your healthy habits.\"\"\")\n",
    "    elif(BMI >= 25 and BMI <= 29.9):\n",
    "        print(\"\\nHi, \" + name + \". Your BMI is: \" + str(BMI) + \"\"\"\\n\\nYou are classified as overweight, which may increase your health risk. \n",
    "        \\nIt might be a good idea to review your lifestyle and consult a healthcare professional if needed.\"\"\")\n",
    "    elif(BMI >= 30 and BMI <= 34.9):\n",
    "        print(\"\\nHi, \" + name + \". Your BMI is: \" + str(BMI) + \"\"\"\\n\\nYou are classified as obese, which is associated with a high health risk. \n",
    "        \\nIt’s advisable to seek guidance on achieving a healthier weight.\"\"\")\n",
    "    elif(BMI >= 35 and BMI <= 39.9):\n",
    "        print(\"\\nHi, \" + name + \". Your BMI is: \" + str(BMI) + \"\"\"\\n\\nYou are classified as severely obese, which carries a very high health risk. \n",
    "        \\nIt’s important to consult with a healthcare professional for personalized advice.\"\"\")\n",
    "    else:\n",
    "        print(\"\\nHi, \" + name + \". Your BMI is: \" + str(BMI) + \"\"\"\\n\\nYou are classified as morbidly obese, which carries an extremely high health risk. \n",
    "        \\nIt’s strongly recommended to seek medical support to improve your health.\"\"\")"
   ]
  },
  {
   "cell_type": "code",
   "execution_count": null,
   "id": "23fda6f1-a733-40bb-9b0f-804019d3559f",
   "metadata": {},
   "outputs": [],
   "source": []
  },
  {
   "cell_type": "code",
   "execution_count": null,
   "id": "b592b4ba-eaad-4e63-b2d1-e5b280e266ca",
   "metadata": {},
   "outputs": [],
   "source": []
  },
  {
   "cell_type": "code",
   "execution_count": null,
   "id": "30c8a790-3d12-4111-8e16-d13b4d4454c4",
   "metadata": {},
   "outputs": [],
   "source": []
  },
  {
   "cell_type": "code",
   "execution_count": null,
   "id": "17d48295-8085-4865-bb14-bf99fcf808b1",
   "metadata": {},
   "outputs": [],
   "source": []
  },
  {
   "cell_type": "code",
   "execution_count": null,
   "id": "2e4ca4d8-b397-450a-bfd6-a659fcaf2a37",
   "metadata": {},
   "outputs": [],
   "source": []
  }
 ],
 "metadata": {
  "kernelspec": {
   "display_name": "Python [conda env:base] *",
   "language": "python",
   "name": "conda-base-py"
  },
  "language_info": {
   "codemirror_mode": {
    "name": "ipython",
    "version": 3
   },
   "file_extension": ".py",
   "mimetype": "text/x-python",
   "name": "python",
   "nbconvert_exporter": "python",
   "pygments_lexer": "ipython3",
   "version": "3.13.5"
  }
 },
 "nbformat": 4,
 "nbformat_minor": 5
}
